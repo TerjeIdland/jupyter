{
 "cells": [
  {
   "cell_type": "markdown",
   "metadata": {},
   "source": [
    "# 1T - Tallmønstre\n",
    "## Skrive ut partall\n",
    "\n",
    "Nedenfor ser du figurtallene vi får fra partallene, 2, 4, 6, ...\n",
    "<img src=\"bilder/figurtall-partall.png\"/>\n",
    "Vi kan bruke Python til å lage kode som skriver ut partallene. Sett markøren i kodefeltet nedenfor og trykk \"shift\" og \"enter\". Da vil koden kjøre og du ser hva koden gjør."
   ]
  },
  {
   "cell_type": "code",
   "execution_count": 4,
   "metadata": {},
   "outputs": [
    {
     "name": "stdout",
     "output_type": "stream",
     "text": [
      "2\n",
      "4\n",
      "6\n",
      "8\n"
     ]
    }
   ],
   "source": [
    "n = 1\n",
    "\n",
    "while n < 5:\n",
    "    partall = 2*n\n",
    "    print(partall)\n",
    "    n = n + 1"
   ]
  },
  {
   "cell_type": "markdown",
   "metadata": {},
   "source": [
    "Koden trenger ikke nødvendigvis å skrives på eksakt samme måte for å gi samme resultat."
   ]
  },
  {
   "cell_type": "code",
   "execution_count": 9,
   "metadata": {},
   "outputs": [
    {
     "name": "stdout",
     "output_type": "stream",
     "text": [
      "2\n",
      "4\n",
      "6\n",
      "8\n"
     ]
    }
   ],
   "source": [
    "partall = 2\n",
    "\n",
    "while partall < 10:\n",
    "    print(partall)\n",
    "    partall+=2 #Legg merke til at partall+=2 er det samme som \"partall = partall + 2\", bare litt raskere måte å øke telleren på. "
   ]
  },
  {
   "cell_type": "markdown",
   "metadata": {},
   "source": [
    "Nedenfor ser du starten av en kode. Rediger den ferdig og trykk \"shift\" og \"enter\". Koden skal skrive ut oddetallene fra 1 til 7."
   ]
  },
  {
   "cell_type": "code",
   "execution_count": null,
   "metadata": {},
   "outputs": [],
   "source": [
    "oddetall = 1\n",
    "\n",
    "while oddetall < ...:\n",
    "    print(...)\n",
    "    ..."
   ]
  },
  {
   "cell_type": "markdown",
   "metadata": {},
   "source": [
    "Fikk du til 1, 3, 5, 7 ?\n",
    "Bra!\n",
    "Nedenfor ser du en kode som skriver ut summen av tallene 1, 2, 3, 4, 5, 6, 7, 8, 9 og 10.\n",
    "Kan du endre koden slik at den skriver ut summen av tallene fra 1 til 100?"
   ]
  },
  {
   "cell_type": "code",
   "execution_count": 3,
   "metadata": {},
   "outputs": [
    {
     "name": "stdout",
     "output_type": "stream",
     "text": [
      "Summen er 55\n"
     ]
    }
   ],
   "source": [
    "n = 1\n",
    "sum = 0\n",
    "\n",
    "while n < 11:\n",
    "    sum+=n\n",
    "    n+=1\n",
    "\n",
    "print(\"Summen er\",sum)"
   ]
  },
  {
   "cell_type": "markdown",
   "metadata": {},
   "source": [
    "Fikk du 5050?\n",
    "Bra!"
   ]
  }
 ],
 "metadata": {
  "kernelspec": {
   "display_name": "Python 3",
   "language": "python",
   "name": "python3"
  },
  "language_info": {
   "codemirror_mode": {
    "name": "ipython",
    "version": 3
   },
   "file_extension": ".py",
   "mimetype": "text/x-python",
   "name": "python",
   "nbconvert_exporter": "python",
   "pygments_lexer": "ipython3",
   "version": "3.8.5"
  }
 },
 "nbformat": 4,
 "nbformat_minor": 4
}
